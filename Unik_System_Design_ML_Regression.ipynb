{
  "nbformat": 4,
  "nbformat_minor": 0,
  "metadata": {
    "colab": {
      "name": "Unik System Design - ML Regression.ipynb",
      "provenance": [],
      "collapsed_sections": [],
      "toc_visible": true,
      "mount_file_id": "1Ax11eet6gcowTvuL_tq7gz507RaJYWHP",
      "authorship_tag": "ABX9TyMRPZzc88knMUHrRIelfC2E",
      "include_colab_link": true
    },
    "kernelspec": {
      "name": "python3",
      "display_name": "Python 3"
    }
  },
  "cells": [
    {
      "cell_type": "markdown",
      "metadata": {
        "id": "view-in-github",
        "colab_type": "text"
      },
      "source": [
        "<a href=\"https://colab.research.google.com/github/Nichlas0403/ML_Regression_Unik_System_Design/blob/main/Unik_System_Design_ML_Regression.ipynb\" target=\"_parent\"><img src=\"https://colab.research.google.com/assets/colab-badge.svg\" alt=\"Open In Colab\"/></a>"
      ]
    },
    {
      "cell_type": "markdown",
      "metadata": {
        "id": "09aHVW2X1i-r"
      },
      "source": [
        "# Notebook recap\n",
        "\n",
        "The goal of this notebook is to create a Machine Learning model that is able to predict the number of years a given applicant at Unik System Design will be living in a given tenancy. The end result will be implemented in our solution of the final term project.\n",
        "\n",
        "NOTE: This is a school project and not an actual project for Unik System Design.\n",
        "\n",
        "## Tools\n",
        "\n",
        "The programming language of choice will be Python along with the relevant machine learning libraries.\n",
        "\n",
        "## Data\n",
        "\n",
        "The data has been downloaded from dst.dk (Danmarks Statistik) and has been prepared by removing irrelivant feautures as well as translating the entire dataset from danish to english. I will still be doing a data exploration analysis as well as preparing the data for training.\n",
        "\n",
        "NOTE: The target column has been generated data by me, and therefore this dataset won't be a complete reflection of reality.\n",
        "\n",
        "## Features\n",
        "\n",
        "Features in this dataset includes:\n",
        "- Sex of the resident\n",
        "- Age of the resident\n",
        "- Number of rooms in the tenancy of the resident\n",
        "- Number of residents in the tenancy of the given resident\n",
        "- Type of tenancy\n",
        "- Region of the tenancy\n",
        "- Years the resident has lived in the tenancy before moving out (this is the target column and the column with pre-generated data)\n",
        "\n",
        "## Evaluation\n",
        "\n",
        "Since this dataset contains few features and one feature with generated data, I won't expect the best results, however it should be noticed that this isn't the goal. Instead the goal is the concept of creating artificial intelligence which we can implement in our project, and show the possibilities of using machine learning in a production environment.\n",
        "\n",
        "Since the goal isn't to create a perfect model, and the since this part of the project lies outside of evaluation, I will be taking the opportunities to work with tools, I don't normally work with, so I can learn more about this field."
      ]
    },
    {
      "cell_type": "markdown",
      "metadata": {
        "id": "vu5gfcKgCFzO"
      },
      "source": [
        "#Import tools"
      ]
    },
    {
      "cell_type": "code",
      "metadata": {
        "id": "SVCGCuLECaK1",
        "colab": {
          "base_uri": "https://localhost:8080/"
        },
        "outputId": "f0555729-19f3-42fb-8644-39b548a58afd"
      },
      "source": [
        "#Import baseline libraries - more libraries will be imported as needed.\n",
        "\n",
        "import numpy as np\n",
        "import pandas as pd\n",
        "import matplotlib.pyplot as plt\n",
        "%matplotlib inline\n",
        "#!pip install scikit-learn==0.23.2\n",
        "import sklearn\n",
        "print(sklearn.__version__)"
      ],
      "execution_count": null,
      "outputs": [
        {
          "output_type": "stream",
          "text": [
            "0.23.2\n"
          ],
          "name": "stdout"
        }
      ]
    },
    {
      "cell_type": "markdown",
      "metadata": {
        "id": "-MOW_cAMDS10"
      },
      "source": [
        "# Data Exploration Analysis"
      ]
    },
    {
      "cell_type": "code",
      "metadata": {
        "colab": {
          "base_uri": "https://localhost:8080/",
          "height": 215
        },
        "id": "h1uw_LO5DPNU",
        "outputId": "d9da453c-31c5-41a4-9902-e7b1536c63c3"
      },
      "source": [
        "#Import dataset\n",
        "df_baseline.head()"
      ],
      "execution_count": null,
      "outputs": [
        {
          "output_type": "execute_result",
          "data": {
            "text/html": [
              "<div>\n",
              "<style scoped>\n",
              "    .dataframe tbody tr th:only-of-type {\n",
              "        vertical-align: middle;\n",
              "    }\n",
              "\n",
              "    .dataframe tbody tr th {\n",
              "        vertical-align: top;\n",
              "    }\n",
              "\n",
              "    .dataframe thead th {\n",
              "        text-align: right;\n",
              "    }\n",
              "</style>\n",
              "<table border=\"1\" class=\"dataframe\">\n",
              "  <thead>\n",
              "    <tr style=\"text-align: right;\">\n",
              "      <th></th>\n",
              "      <th>Sex</th>\n",
              "      <th>ResidentsInTheTenancy</th>\n",
              "      <th>NumberOfRoomsInTheTenancy</th>\n",
              "      <th>TypeOfTenancy</th>\n",
              "      <th>LocationOfTenancy</th>\n",
              "      <th>ResidentAgeGroup</th>\n",
              "      <th>YearsLivedInTenancy</th>\n",
              "    </tr>\n",
              "  </thead>\n",
              "  <tbody>\n",
              "    <tr>\n",
              "      <th>0</th>\n",
              "      <td>Male</td>\n",
              "      <td>1</td>\n",
              "      <td>1</td>\n",
              "      <td>Terraced_Chain_And_SemiDetachedHouses</td>\n",
              "      <td>The_Capital_Region_of_Denmark</td>\n",
              "      <td>18-24</td>\n",
              "      <td>3.0</td>\n",
              "    </tr>\n",
              "    <tr>\n",
              "      <th>1</th>\n",
              "      <td>Male</td>\n",
              "      <td>1</td>\n",
              "      <td>1</td>\n",
              "      <td>Terraced_Chain_And_SemiDetachedHouses</td>\n",
              "      <td>The_Capital_Region_of_Denmark</td>\n",
              "      <td>25-29</td>\n",
              "      <td>8.0</td>\n",
              "    </tr>\n",
              "    <tr>\n",
              "      <th>2</th>\n",
              "      <td>Male</td>\n",
              "      <td>1</td>\n",
              "      <td>1</td>\n",
              "      <td>Terraced_Chain_And_SemiDetachedHouses</td>\n",
              "      <td>The_Capital_Region_of_Denmark</td>\n",
              "      <td>30-39</td>\n",
              "      <td>14.0</td>\n",
              "    </tr>\n",
              "    <tr>\n",
              "      <th>3</th>\n",
              "      <td>Male</td>\n",
              "      <td>1</td>\n",
              "      <td>1</td>\n",
              "      <td>Terraced_Chain_And_SemiDetachedHouses</td>\n",
              "      <td>The_Capital_Region_of_Denmark</td>\n",
              "      <td>40-49</td>\n",
              "      <td>23.0</td>\n",
              "    </tr>\n",
              "    <tr>\n",
              "      <th>4</th>\n",
              "      <td>Male</td>\n",
              "      <td>1</td>\n",
              "      <td>1</td>\n",
              "      <td>Terraced_Chain_And_SemiDetachedHouses</td>\n",
              "      <td>The_Capital_Region_of_Denmark</td>\n",
              "      <td>50-59</td>\n",
              "      <td>29.0</td>\n",
              "    </tr>\n",
              "  </tbody>\n",
              "</table>\n",
              "</div>"
            ],
            "text/plain": [
              "    Sex  ResidentsInTheTenancy  ...  ResidentAgeGroup YearsLivedInTenancy\n",
              "0  Male                      1  ...             18-24                 3.0\n",
              "1  Male                      1  ...             25-29                 8.0\n",
              "2  Male                      1  ...             30-39                14.0\n",
              "3  Male                      1  ...             40-49                23.0\n",
              "4  Male                      1  ...             50-59                29.0\n",
              "\n",
              "[5 rows x 7 columns]"
            ]
          },
          "metadata": {
            "tags": []
          },
          "execution_count": 3
        }
      ]
    },
    {
      "cell_type": "code",
      "metadata": {
        "colab": {
          "base_uri": "https://localhost:8080/"
        },
        "id": "mOUptGuADnl1",
        "outputId": "bc16b55b-fea4-4006-a5a3-22d0ad7b287d"
      },
      "source": [
        "#18000 samples, no NaN-samples, 3 numerical datatypes, 4 object datatypes\n",
        "df_baseline.info()"
      ],
      "execution_count": null,
      "outputs": [
        {
          "output_type": "stream",
          "text": [
            "<class 'pandas.core.frame.DataFrame'>\n",
            "RangeIndex: 18000 entries, 0 to 17999\n",
            "Data columns (total 7 columns):\n",
            " #   Column                     Non-Null Count  Dtype  \n",
            "---  ------                     --------------  -----  \n",
            " 0   Sex                        18000 non-null  object \n",
            " 1   ResidentsInTheTenancy      18000 non-null  int64  \n",
            " 2   NumberOfRoomsInTheTenancy  18000 non-null  int64  \n",
            " 3   TypeOfTenancy              18000 non-null  object \n",
            " 4   LocationOfTenancy          18000 non-null  object \n",
            " 5   ResidentAgeGroup           18000 non-null  object \n",
            " 6   YearsLivedInTenancy        18000 non-null  float64\n",
            "dtypes: float64(1), int64(2), object(4)\n",
            "memory usage: 984.5+ KB\n"
          ],
          "name": "stdout"
        }
      ]
    },
    {
      "cell_type": "markdown",
      "metadata": {
        "id": "Y38FzSLZD1A5"
      },
      "source": [
        "## Sex-column exploration"
      ]
    },
    {
      "cell_type": "code",
      "metadata": {
        "colab": {
          "base_uri": "https://localhost:8080/",
          "height": 370
        },
        "id": "9gMkX4azEyBf",
        "outputId": "e2286c8e-a5c9-41bf-c2a1-3ad973463c67"
      },
      "source": [
        "plt.style.use(\"seaborn\") #changes the plot look\n",
        "\n",
        "#plot sex-distribution in a bar-graph\n",
        "pd.value_counts(df_baseline['Sex']).plot.bar();"
      ],
      "execution_count": null,
      "outputs": [
        {
          "output_type": "display_data",
          "data": {
            "image/png": "[encoded data removed]",
            "text/plain": [
              "<Figure size 576x396 with 1 Axes>"
            ]
          },
          "metadata": {
            "tags": []
          }
        }
      ]
    },
    {
      "cell_type": "markdown",
      "metadata": {
        "id": "yenkcQuuFKks"
      },
      "source": [
        "## ResidentAgeGroup-column exploration"
      ]
    },
    {
      "cell_type": "code",
      "metadata": {
        "colab": {
          "base_uri": "https://localhost:8080/",
          "height": 395
        },
        "id": "kIvNBgXMFxIJ",
        "outputId": "67762aad-bd20-49db-a922-d5d5eda04c5c"
      },
      "source": [
        "#plot resident age-group distribution in a bar graph\n",
        "pd.value_counts(df_baseline[\"ResidentAgeGroup\"]).plot.bar();"
      ],
      "execution_count": null,
      "outputs": [
        {
          "output_type": "display_data",
          "data": {
            "image/png": "[encoded data removed]",
            "text/plain": [
              "<Figure size 576x396 with 1 Axes>"
            ]
          },
          "metadata": {
            "tags": []
          }
        }
      ]
    },
    {
      "cell_type": "markdown",
      "metadata": {
        "id": "JT3ZhR3NF8R-"
      },
      "source": [
        "## Check genderdistribution in each agegroup"
      ]
    },
    {
      "cell_type": "code",
      "metadata": {
        "colab": {
          "base_uri": "https://localhost:8080/",
          "height": 426
        },
        "id": "umIuYZo335sc",
        "outputId": "570f3a2e-8967-4aa0-ca0b-345c3f09fa41"
      },
      "source": [
        "#Visualize gender-distribution in each agegroup\n",
        "pd.crosstab(df_baseline[\"Sex\"],df_baseline[\"ResidentAgeGroup\"]).plot(kind=\"bar\",\n",
        "                                                   figsize=(10,6));\n",
        "\n",
        "plt.title(\"Genderdistribution in each agegroup\");\n",
        "plt.ylabel(\"Amount\");"
      ],
      "execution_count": null,
      "outputs": [
        {
          "output_type": "display_data",
          "data": {
            "image/png": "[encoded data removed]",
            "text/plain": [
              "<Figure size 720x432 with 1 Axes>"
            ]
          },
          "metadata": {
            "tags": []
          }
        }
      ]
    },
    {
      "cell_type": "markdown",
      "metadata": {
        "id": "vmQAzzJv4jH9"
      },
      "source": [
        "## TypeOfTenancy-column exploration"
      ]
    },
    {
      "cell_type": "code",
      "metadata": {
        "colab": {
          "base_uri": "https://localhost:8080/",
          "height": 553
        },
        "id": "3zW4KPyH6MLl",
        "outputId": "2a208578-a187-4b03-e97a-1ca7afcc82b1"
      },
      "source": [
        "#Show distribtuion of tenancy-type\n",
        "df_baseline[\"TypeOfTenancy\"].value_counts().plot.bar()"
      ],
      "execution_count": null,
      "outputs": [
        {
          "output_type": "execute_result",
          "data": {
            "text/plain": [
              "<matplotlib.axes._subplots.AxesSubplot at 0x7f8f7dad1898>"
            ]
          },
          "metadata": {
            "tags": []
          },
          "execution_count": 8
        },
        {
          "output_type": "display_data",
          "data": {
            "image/png": "[encoded data removed]",
            "text/plain": [
              "<Figure size 576x396 with 1 Axes>"
            ]
          },
          "metadata": {
            "tags": []
          }
        }
      ]
    },
    {
      "cell_type": "markdown",
      "metadata": {
        "id": "NoOtzYh66Sxv"
      },
      "source": [
        "## Check regiondistribution of TypeOfTenancy-column"
      ]
    },
    {
      "cell_type": "code",
      "metadata": {
        "colab": {
          "base_uri": "https://localhost:8080/",
          "height": 592
        },
        "id": "HVQwRLL37BUJ",
        "outputId": "1d676a51-7601-4553-b3ae-01b17af4f769"
      },
      "source": [
        "#Check distribution of tenancy-type in each location\n",
        "pd.crosstab(df_baseline[\"TypeOfTenancy\"],df_baseline[\"LocationOfTenancy\"]).plot(kind=\"bar\",\n",
        "                                                   figsize=(14,6));\n",
        "\n",
        "plt.title(\"Tenancytype distritbution\");\n",
        "plt.ylabel(\"Amount\");"
      ],
      "execution_count": null,
      "outputs": [
        {
          "output_type": "display_data",
          "data": {
            "image/png": "[encoded data removed]",
            "text/plain": [
              "<Figure size 1008x432 with 1 Axes>"
            ]
          },
          "metadata": {
            "tags": []
          }
        }
      ]
    },
    {
      "cell_type": "markdown",
      "metadata": {
        "id": "LueKCkRy7McQ"
      },
      "source": [
        "## Target-column DEA\n",
        "\n",
        "So far dst has provided a balanced dataset. The YearsLivedInTenancy-column has been generated by my, so let's put our focus there."
      ]
    },
    {
      "cell_type": "code",
      "metadata": {
        "colab": {
          "base_uri": "https://localhost:8080/",
          "height": 374
        },
        "id": "bvupJiWb782W",
        "outputId": "5b4dbc1e-9df1-4c8c-b01f-f4549c0fb54d"
      },
      "source": [
        "#This does not look to good - explanation why can be seen in the DEA conclusion.\n",
        "df_baseline[\"YearsLivedInTenancy\"].value_counts().sort_values().plot.bar()"
      ],
      "execution_count": null,
      "outputs": [
        {
          "output_type": "execute_result",
          "data": {
            "text/plain": [
              "<matplotlib.axes._subplots.AxesSubplot at 0x7f8f7f308fd0>"
            ]
          },
          "metadata": {
            "tags": []
          },
          "execution_count": 10
        },
        {
          "output_type": "display_data",
          "data": {
            "image/png": "[encoded data removed]",
            "text/plain": [
              "<Figure size 576x396 with 1 Axes>"
            ]
          },
          "metadata": {
            "tags": []
          }
        }
      ]
    },
    {
      "cell_type": "markdown",
      "metadata": {
        "id": "pYaiWru68CHz"
      },
      "source": [
        "### Check Genderdistribution in YearsLviedInTenancy-column\n"
      ]
    },
    {
      "cell_type": "code",
      "metadata": {
        "colab": {
          "base_uri": "https://localhost:8080/",
          "height": 753
        },
        "id": "JdJ6P6YQ_q3l",
        "outputId": "2edc5977-625e-4f55-a15a-679d9c13ee9c"
      },
      "source": [
        "#Show genderdistribution in the target-column\n",
        "pd.crosstab(df_baseline[\"Sex\"],df_baseline[\"YearsLivedInTenancy\"]).plot(kind=\"bar\",\n",
        "                                                   figsize=(10,12));\n",
        "\n",
        "plt.title(\"Genderdistribution\");\n",
        "plt.ylabel(\"Amount\");"
      ],
      "execution_count": null,
      "outputs": [
        {
          "output_type": "display_data",
          "data": {
            "image/png": "[encoded data removed]",
            "text/plain": [
              "<Figure size 720x864 with 1 Axes>"
            ]
          },
          "metadata": {
            "tags": []
          }
        }
      ]
    },
    {
      "cell_type": "markdown",
      "metadata": {
        "id": "9hK9b800_x1W"
      },
      "source": [
        "## DEA conclusion:\n",
        "\n",
        "It's clear the data provided by Danmarks Statistik is balanced. The unbalanced data that can be seen, is the data I have generated myself using a python script. We can see there are fewest occurrences where a given resident has been living in a given tenancy for 16-24 years. This could potentially be a big problem. My experience so far says a dataset with an unbalanced target-column combined with few features can be a bad combination. The model might just try to predict the values is has seen the most during training. Futher analysis of this scenario will be done in the evaluation-section if relevant."
      ]
    },
    {
      "cell_type": "markdown",
      "metadata": {
        "id": "LgRua8e0CE0k"
      },
      "source": [
        "# Data preparation\n"
      ]
    },
    {
      "cell_type": "markdown",
      "metadata": {
        "id": "yMPafx13KLZx"
      },
      "source": [
        "## Convert non-numeric data to numeric data\n",
        "\n",
        "For this I'll be using pandas categorical-datatype functionality, which for each categories found in the dataframe, will be given a numeric value. Male might get the value 0, while Female gets the value 1."
      ]
    },
    {
      "cell_type": "code",
      "metadata": {
        "colab": {
          "base_uri": "https://localhost:8080/",
          "height": 215
        },
        "id": "bXtzaU79Cjcq",
        "outputId": "0f372399-0a74-4327-9064-797ddab81004"
      },
      "source": [
        "df_baseline.head()"
      ],
      "execution_count": null,
      "outputs": [
        {
          "output_type": "execute_result",
          "data": {
            "text/html": [
              "<div>\n",
              "<style scoped>\n",
              "    .dataframe tbody tr th:only-of-type {\n",
              "        vertical-align: middle;\n",
              "    }\n",
              "\n",
              "    .dataframe tbody tr th {\n",
              "        vertical-align: top;\n",
              "    }\n",
              "\n",
              "    .dataframe thead th {\n",
              "        text-align: right;\n",
              "    }\n",
              "</style>\n",
              "<table border=\"1\" class=\"dataframe\">\n",
              "  <thead>\n",
              "    <tr style=\"text-align: right;\">\n",
              "      <th></th>\n",
              "      <th>Sex</th>\n",
              "      <th>ResidentsInTheTenancy</th>\n",
              "      <th>NumberOfRoomsInTheTenancy</th>\n",
              "      <th>TypeOfTenancy</th>\n",
              "      <th>LocationOfTenancy</th>\n",
              "      <th>ResidentAgeGroup</th>\n",
              "      <th>YearsLivedInTenancy</th>\n",
              "    </tr>\n",
              "  </thead>\n",
              "  <tbody>\n",
              "    <tr>\n",
              "      <th>0</th>\n",
              "      <td>Male</td>\n",
              "      <td>1</td>\n",
              "      <td>1</td>\n",
              "      <td>Terraced_Chain_And_SemiDetachedHouses</td>\n",
              "      <td>The_Capital_Region_of_Denmark</td>\n",
              "      <td>18-24</td>\n",
              "      <td>3.0</td>\n",
              "    </tr>\n",
              "    <tr>\n",
              "      <th>1</th>\n",
              "      <td>Male</td>\n",
              "      <td>1</td>\n",
              "      <td>1</td>\n",
              "      <td>Terraced_Chain_And_SemiDetachedHouses</td>\n",
              "      <td>The_Capital_Region_of_Denmark</td>\n",
              "      <td>25-29</td>\n",
              "      <td>8.0</td>\n",
              "    </tr>\n",
              "    <tr>\n",
              "      <th>2</th>\n",
              "      <td>Male</td>\n",
              "      <td>1</td>\n",
              "      <td>1</td>\n",
              "      <td>Terraced_Chain_And_SemiDetachedHouses</td>\n",
              "      <td>The_Capital_Region_of_Denmark</td>\n",
              "      <td>30-39</td>\n",
              "      <td>14.0</td>\n",
              "    </tr>\n",
              "    <tr>\n",
              "      <th>3</th>\n",
              "      <td>Male</td>\n",
              "      <td>1</td>\n",
              "      <td>1</td>\n",
              "      <td>Terraced_Chain_And_SemiDetachedHouses</td>\n",
              "      <td>The_Capital_Region_of_Denmark</td>\n",
              "      <td>40-49</td>\n",
              "      <td>23.0</td>\n",
              "    </tr>\n",
              "    <tr>\n",
              "      <th>4</th>\n",
              "      <td>Male</td>\n",
              "      <td>1</td>\n",
              "      <td>1</td>\n",
              "      <td>Terraced_Chain_And_SemiDetachedHouses</td>\n",
              "      <td>The_Capital_Region_of_Denmark</td>\n",
              "      <td>50-59</td>\n",
              "      <td>29.0</td>\n",
              "    </tr>\n",
              "  </tbody>\n",
              "</table>\n",
              "</div>"
            ],
            "text/plain": [
              "    Sex  ResidentsInTheTenancy  ...  ResidentAgeGroup YearsLivedInTenancy\n",
              "0  Male                      1  ...             18-24                 3.0\n",
              "1  Male                      1  ...             25-29                 8.0\n",
              "2  Male                      1  ...             30-39                14.0\n",
              "3  Male                      1  ...             40-49                23.0\n",
              "4  Male                      1  ...             50-59                29.0\n",
              "\n",
              "[5 rows x 7 columns]"
            ]
          },
          "metadata": {
            "tags": []
          },
          "execution_count": 12
        }
      ]
    },
    {
      "cell_type": "code",
      "metadata": {
        "colab": {
          "base_uri": "https://localhost:8080/",
          "height": 215
        },
        "id": "TIyvDBYMbLTB",
        "outputId": "43547548-1365-41b1-f0a1-a9d2b11f3b5f"
      },
      "source": [
        "df_baseline.tail()"
      ],
      "execution_count": null,
      "outputs": [
        {
          "output_type": "execute_result",
          "data": {
            "text/html": [
              "<div>\n",
              "<style scoped>\n",
              "    .dataframe tbody tr th:only-of-type {\n",
              "        vertical-align: middle;\n",
              "    }\n",
              "\n",
              "    .dataframe tbody tr th {\n",
              "        vertical-align: top;\n",
              "    }\n",
              "\n",
              "    .dataframe thead th {\n",
              "        text-align: right;\n",
              "    }\n",
              "</style>\n",
              "<table border=\"1\" class=\"dataframe\">\n",
              "  <thead>\n",
              "    <tr style=\"text-align: right;\">\n",
              "      <th></th>\n",
              "      <th>Sex</th>\n",
              "      <th>ResidentsInTheTenancy</th>\n",
              "      <th>NumberOfRoomsInTheTenancy</th>\n",
              "      <th>TypeOfTenancy</th>\n",
              "      <th>LocationOfTenancy</th>\n",
              "      <th>ResidentAgeGroup</th>\n",
              "      <th>YearsLivedInTenancy</th>\n",
              "    </tr>\n",
              "  </thead>\n",
              "  <tbody>\n",
              "    <tr>\n",
              "      <th>17995</th>\n",
              "      <td>Female</td>\n",
              "      <td>5</td>\n",
              "      <td>5</td>\n",
              "      <td>Apartment</td>\n",
              "      <td>The_Region_of_Northern_Jutland</td>\n",
              "      <td>50-59</td>\n",
              "      <td>29.0</td>\n",
              "    </tr>\n",
              "    <tr>\n",
              "      <th>17996</th>\n",
              "      <td>Female</td>\n",
              "      <td>5</td>\n",
              "      <td>5</td>\n",
              "      <td>Apartment</td>\n",
              "      <td>The_Region_of_Northern_Jutland</td>\n",
              "      <td>60-69</td>\n",
              "      <td>29.0</td>\n",
              "    </tr>\n",
              "    <tr>\n",
              "      <th>17997</th>\n",
              "      <td>Female</td>\n",
              "      <td>5</td>\n",
              "      <td>5</td>\n",
              "      <td>Apartment</td>\n",
              "      <td>The_Region_of_Northern_Jutland</td>\n",
              "      <td>70-79</td>\n",
              "      <td>28.0</td>\n",
              "    </tr>\n",
              "    <tr>\n",
              "      <th>17998</th>\n",
              "      <td>Female</td>\n",
              "      <td>5</td>\n",
              "      <td>5</td>\n",
              "      <td>Apartment</td>\n",
              "      <td>The_Region_of_Northern_Jutland</td>\n",
              "      <td>80-89</td>\n",
              "      <td>28.0</td>\n",
              "    </tr>\n",
              "    <tr>\n",
              "      <th>17999</th>\n",
              "      <td>Female</td>\n",
              "      <td>5</td>\n",
              "      <td>5</td>\n",
              "      <td>Apartment</td>\n",
              "      <td>The_Region_of_Northern_Jutland</td>\n",
              "      <td>90_or_above</td>\n",
              "      <td>29.0</td>\n",
              "    </tr>\n",
              "  </tbody>\n",
              "</table>\n",
              "</div>"
            ],
            "text/plain": [
              "          Sex  ResidentsInTheTenancy  ...  ResidentAgeGroup YearsLivedInTenancy\n",
              "17995  Female                      5  ...             50-59                29.0\n",
              "17996  Female                      5  ...             60-69                29.0\n",
              "17997  Female                      5  ...             70-79                28.0\n",
              "17998  Female                      5  ...             80-89                28.0\n",
              "17999  Female                      5  ...       90_or_above                29.0\n",
              "\n",
              "[5 rows x 7 columns]"
            ]
          },
          "metadata": {
            "tags": []
          },
          "execution_count": 13
        }
      ]
    },
    {
      "cell_type": "code",
      "metadata": {
        "id": "hUDBWwADCl6T"
      },
      "source": [
        "for label, content in df_baseline.items():\n",
        "  #check if content is of numeric datatype\n",
        "  if not pd.api.types.is_numeric_dtype(content):\n",
        "    #If not, it will convert the content to categorical datatype\n",
        "    #the .codes will futher convert it from categorical datatype to it's\n",
        "    #corresponding numerical value\n",
        "    df_baseline[label] = pd.Categorical(content)\n",
        "\n",
        "    #If we at this points still had NaN-values, we would need to add 1 to the \n",
        "    #corresponding numeric value.\n",
        "    #if pandas finds a NaN-sample, the categorical value will be -1,\n",
        "    #which we don't want. Negative values aren't necessarily a bad thing as \n",
        "    #long as it semantically makes sense like if it's the value of a bankaccount. \n",
        "    #It is however bad if it doesn't make semantically sense like a negative length\n",
        "    #or an absolute temperature.\n",
        "    #Therefore I want to neutralize the number, as there is no reasion to why\n",
        "    #it should be negative in this scenario."
      ],
      "execution_count": null,
      "outputs": []
    },
    {
      "cell_type": "code",
      "metadata": {
        "colab": {
          "base_uri": "https://localhost:8080/"
        },
        "id": "rrHWRG369Ee0",
        "outputId": "8b6abaea-1e82-492a-cd7c-ca216ee07c98"
      },
      "source": [
        "#Check datatype - we only got catagory, int and float\n",
        "df_baseline.info()"
      ],
      "execution_count": null,
      "outputs": [
        {
          "output_type": "stream",
          "text": [
            "<class 'pandas.core.frame.DataFrame'>\n",
            "RangeIndex: 18000 entries, 0 to 17999\n",
            "Data columns (total 7 columns):\n",
            " #   Column                     Non-Null Count  Dtype   \n",
            "---  ------                     --------------  -----   \n",
            " 0   Sex                        18000 non-null  category\n",
            " 1   ResidentsInTheTenancy      18000 non-null  int64   \n",
            " 2   NumberOfRoomsInTheTenancy  18000 non-null  int64   \n",
            " 3   TypeOfTenancy              18000 non-null  category\n",
            " 4   LocationOfTenancy          18000 non-null  category\n",
            " 5   ResidentAgeGroup           18000 non-null  category\n",
            " 6   YearsLivedInTenancy        18000 non-null  float64 \n",
            "dtypes: category(4), float64(1), int64(2)\n",
            "memory usage: 493.1 KB\n"
          ],
          "name": "stdout"
        }
      ]
    },
    {
      "cell_type": "code",
      "metadata": {
        "id": "XO9ySWM7JVnR"
      },
      "source": [
        "#Before mapping the catagory to the corresponding numerical values, I'm gonna map\n",
        "#the correlation between each catagory to it's numerical value and save it to a file\n",
        "\n",
        "#This is because, the inputdata in production, have to be converted to the same\n",
        "#format as the data the model was trained on."
      ],
      "execution_count": null,
      "outputs": []
    },
    {
      "cell_type": "code",
      "metadata": {
        "id": "SFDv5e8a4M9z"
      },
      "source": [
        "#Save mapping to dict, and swap around the key and value in dict\n",
        "sex_mapping = dict(enumerate(df_baseline['Sex'].cat.categories))\n",
        "sex_mapping = {v: k for k, v in sex_mapping.items()}\n",
        "\n",
        "type_of_tenancy_mapping = dict(enumerate(df_baseline['TypeOfTenancy'].cat.categories))\n",
        "type_of_tenancy_mapping = {v: k for k, v in type_of_tenancy_mapping.items()}\n",
        "\n",
        "location_of_tenancy_mapping = dict(enumerate(df_baseline['LocationOfTenancy'].cat.categories))\n",
        "location_of_tenancy_mapping = {v: k for k, v in location_of_tenancy_mapping.items()}\n",
        "\n",
        "resident_age_group_mapping = dict(enumerate(df_baseline['ResidentAgeGroup'].cat.categories))\n",
        "resident_age_group_mapping = {v: k for k, v in resident_age_group_mapping.items()}"
      ],
      "execution_count": null,
      "outputs": []
    },
    {
      "cell_type": "code",
      "metadata": {
        "id": "cnkpCirQ9A0L"
      },
      "source": [
        "#Save mapping\n",
        "import pickle\n",
        "file_name = \"filename\"\n",
        "\n",
        "open_file = open(file_name + \"sex_mapping.pkl\", \"wb\")\n",
        "pickle.dump(sex_mapping, open_file)\n",
        "open_file = open(file_name + \"type_of_tenancy_mapping.pkl\", \"wb\")\n",
        "pickle.dump(type_of_tenancy_mapping, open_file)\n",
        "open_file = open(file_name + \"location_of_tenancy_mapping.pkl\", \"wb\")\n",
        "pickle.dump(location_of_tenancy_mapping, open_file)\n",
        "open_file = open(file_name + \"resident_age_group_mapping.pkl\", \"wb\")\n",
        "pickle.dump(resident_age_group_mapping, open_file)\n",
        "open_file.close()"
      ],
      "execution_count": null,
      "outputs": []
    },
    {
      "cell_type": "code",
      "metadata": {
        "colab": {
          "base_uri": "https://localhost:8080/"
        },
        "id": "9HiCYE7q-rhM",
        "outputId": "fb395013-fe0b-4ae1-ed53-8122d9551369"
      },
      "source": [
        "#example of result when loading file\n",
        "open_file = open(file_name+\"resident_age_group_mapping.pkl\", \"rb\")\n",
        "loaded_dict = pickle.load(open_file)\n",
        "open_file.close()\n",
        "\n",
        "loaded_dict"
      ],
      "execution_count": null,
      "outputs": [
        {
          "output_type": "execute_result",
          "data": {
            "text/plain": [
              "{'18-24': 0,\n",
              " '25-29': 1,\n",
              " '30-39': 2,\n",
              " '40-49': 3,\n",
              " '50-59': 4,\n",
              " '60-69': 5,\n",
              " '70-79': 6,\n",
              " '80-89': 7,\n",
              " '90_or_above': 8}"
            ]
          },
          "metadata": {
            "tags": []
          },
          "execution_count": 19
        }
      ]
    },
    {
      "cell_type": "code",
      "metadata": {
        "id": "e0rz556c_hod"
      },
      "source": [
        "#Now that the mapping has been saved, the actual categories can be converted into\n",
        "#numerical values"
      ],
      "execution_count": null,
      "outputs": []
    },
    {
      "cell_type": "code",
      "metadata": {
        "id": "I2EeDEH-_m2p"
      },
      "source": [
        "for label, content in df_baseline.items():\n",
        "  #check if content is of numeric datatype\n",
        "  if not pd.api.types.is_numeric_dtype(content):\n",
        "    #If not, it will convert the content to categorical datatype\n",
        "    #the .codes will futher convert it from categorical datatype to it's\n",
        "    #corresponding numerical value\n",
        "    df_baseline[label] = pd.Categorical(content).codes"
      ],
      "execution_count": null,
      "outputs": []
    },
    {
      "cell_type": "code",
      "metadata": {
        "colab": {
          "base_uri": "https://localhost:8080/",
          "height": 77
        },
        "id": "mWvebttt_qZ5",
        "outputId": "534f4e16-7eac-426d-87ab-dd129c27e20f"
      },
      "source": [
        "df_baseline[:1]"
      ],
      "execution_count": null,
      "outputs": [
        {
          "output_type": "execute_result",
          "data": {
            "text/html": [
              "<div>\n",
              "<style scoped>\n",
              "    .dataframe tbody tr th:only-of-type {\n",
              "        vertical-align: middle;\n",
              "    }\n",
              "\n",
              "    .dataframe tbody tr th {\n",
              "        vertical-align: top;\n",
              "    }\n",
              "\n",
              "    .dataframe thead th {\n",
              "        text-align: right;\n",
              "    }\n",
              "</style>\n",
              "<table border=\"1\" class=\"dataframe\">\n",
              "  <thead>\n",
              "    <tr style=\"text-align: right;\">\n",
              "      <th></th>\n",
              "      <th>Sex</th>\n",
              "      <th>ResidentsInTheTenancy</th>\n",
              "      <th>NumberOfRoomsInTheTenancy</th>\n",
              "      <th>TypeOfTenancy</th>\n",
              "      <th>LocationOfTenancy</th>\n",
              "      <th>ResidentAgeGroup</th>\n",
              "      <th>YearsLivedInTenancy</th>\n",
              "    </tr>\n",
              "  </thead>\n",
              "  <tbody>\n",
              "    <tr>\n",
              "      <th>0</th>\n",
              "      <td>1</td>\n",
              "      <td>1</td>\n",
              "      <td>1</td>\n",
              "      <td>1</td>\n",
              "      <td>2</td>\n",
              "      <td>0</td>\n",
              "      <td>3.0</td>\n",
              "    </tr>\n",
              "  </tbody>\n",
              "</table>\n",
              "</div>"
            ],
            "text/plain": [
              "   Sex  ResidentsInTheTenancy  ...  ResidentAgeGroup  YearsLivedInTenancy\n",
              "0    1                      1  ...                 0                  3.0\n",
              "\n",
              "[1 rows x 7 columns]"
            ]
          },
          "metadata": {
            "tags": []
          },
          "execution_count": 22
        }
      ]
    },
    {
      "cell_type": "markdown",
      "metadata": {
        "id": "04b3wed3trHU"
      },
      "source": [
        "## Rescale data\n",
        "\n",
        "I want to rescale the data to make it easier for the model to find the patterns. For this I'll be using RobustScaler provided by scikit-learn.\n",
        "\n",
        "Note: It might not be necessary at all to normalize the data - we won't know until we try it. I'll be using the RobustScaler instead of MinMaxScaler(), since I haven't worked with RobustScaler before."
      ]
    },
    {
      "cell_type": "code",
      "metadata": {
        "id": "ZS-a0n0Ktt3s"
      },
      "source": [
        "from sklearn.preprocessing import RobustScaler\n",
        "\n",
        "#Create X and assign the rescaled dataframe except the target-column\n",
        "rbX = RobustScaler()\n",
        "X = rbX.fit_transform(df_baseline.drop(\"YearsLivedInTenancy\",axis=1))\n",
        "\n",
        "#Create y and assign the rescaled target-column\n",
        "rbY = RobustScaler()\n",
        "y = rbY.fit_transform(pd.DataFrame(df_baseline[\"YearsLivedInTenancy\"]))"
      ],
      "execution_count": null,
      "outputs": []
    },
    {
      "cell_type": "code",
      "metadata": {
        "colab": {
          "base_uri": "https://localhost:8080/"
        },
        "id": "ZxCJKSz2uMME",
        "outputId": "6d41016a-2557-4ddc-ce5a-f606ec444960"
      },
      "source": [
        "X[:1]"
      ],
      "execution_count": null,
      "outputs": [
        {
          "output_type": "execute_result",
          "data": {
            "text/plain": [
              "array([[ 0.5, -1. , -1. ,  0.5,  0. , -1. ]])"
            ]
          },
          "metadata": {
            "tags": []
          },
          "execution_count": 24
        }
      ]
    },
    {
      "cell_type": "code",
      "metadata": {
        "colab": {
          "base_uri": "https://localhost:8080/"
        },
        "id": "QycaZXuquO8o",
        "outputId": "1936611d-589c-40d5-e462-ba38b692a574"
      },
      "source": [
        "y[:1]"
      ],
      "execution_count": null,
      "outputs": [
        {
          "output_type": "execute_result",
          "data": {
            "text/plain": [
              "array([[-1.375]])"
            ]
          },
          "metadata": {
            "tags": []
          },
          "execution_count": 25
        }
      ]
    },
    {
      "cell_type": "code",
      "metadata": {
        "id": "TDJpV5AWz9df"
      },
      "source": [
        "import joblib\n",
        "#Save rbX and rbY so it can be used on production data\n",
        "joblib.dump(rbX, 'filename', compress=True)\n",
        "joblib.dump(rbY, 'filename', compress=True)"
      ],
      "execution_count": null,
      "outputs": []
    },
    {
      "cell_type": "markdown",
      "metadata": {
        "id": "tmwJpKdrt-Sz"
      },
      "source": [
        "## Split data into training and validation sets"
      ]
    },
    {
      "cell_type": "code",
      "metadata": {
        "id": "DnKoE8JKt-ZD"
      },
      "source": [
        "from sklearn.model_selection import train_test_split"
      ],
      "execution_count": null,
      "outputs": []
    },
    {
      "cell_type": "code",
      "metadata": {
        "id": "M4ImgBnst-ZD"
      },
      "source": [
        "#Split data into training and validation data\n",
        "X_train, X_val, y_train, y_val = train_test_split(X,y, test_size=0.15,\n",
        "                                                  random_state=42)"
      ],
      "execution_count": null,
      "outputs": []
    },
    {
      "cell_type": "code",
      "metadata": {
        "colab": {
          "base_uri": "https://localhost:8080/"
        },
        "id": "HuHUSA5at-ZD",
        "outputId": "a8033a58-42e1-44ca-f8c0-0d6cf233b03d"
      },
      "source": [
        "#Check shapes\n",
        "X_train.shape, y_train.shape, X_val.shape, y_val.shape"
      ],
      "execution_count": null,
      "outputs": [
        {
          "output_type": "execute_result",
          "data": {
            "text/plain": [
              "((15300, 6), (15300, 1), (2700, 6), (2700, 1))"
            ]
          },
          "metadata": {
            "tags": []
          },
          "execution_count": 29
        }
      ]
    },
    {
      "cell_type": "markdown",
      "metadata": {
        "id": "oQfHU00CLQ8x"
      },
      "source": [
        "# Modelling"
      ]
    },
    {
      "cell_type": "markdown",
      "metadata": {
        "id": "r8gxlZIKPy7l"
      },
      "source": [
        "## Import models\n",
        "\n",
        "Models I will try:\n",
        "- Support Vector Regressor - https://scikit-learn.org/stable/modules/svm.html#regression\n",
        "- Random Forrest Regressor - https://scikit-learn.org/stable/modules/ensemble.html"
      ]
    },
    {
      "cell_type": "code",
      "metadata": {
        "id": "WvrjpSTecV3i"
      },
      "source": [
        "#Import algorithms\n",
        "from sklearn import svm\n",
        "from sklearn.ensemble import RandomForestRegressor"
      ],
      "execution_count": null,
      "outputs": []
    },
    {
      "cell_type": "code",
      "metadata": {
        "id": "9B6pVkp4cm5-"
      },
      "source": [
        "#Create dict to hold models\n",
        "models = {\"SVM\" : svm.SVR(),\n",
        "          \"RFR\" : RandomForestRegressor()}"
      ],
      "execution_count": null,
      "outputs": []
    },
    {
      "cell_type": "markdown",
      "metadata": {
        "id": "dslC8VVedHxa"
      },
      "source": [
        "## Train models"
      ]
    },
    {
      "cell_type": "code",
      "metadata": {
        "id": "uA87WHpwdXMU"
      },
      "source": [
        "#Create dict to hold evaluations\n",
        "results = {}"
      ],
      "execution_count": null,
      "outputs": []
    },
    {
      "cell_type": "code",
      "metadata": {
        "id": "ALWeC_t6dbJN",
        "colab": {
          "base_uri": "https://localhost:8080/"
        },
        "outputId": "d26475c5-8d52-41c8-a260-c7ea40ca3f9a"
      },
      "source": [
        "#Iterate through models-dict and train\n",
        "#Save their scores to the results-dict\n",
        "\n",
        "for model_name, model in models.items():\n",
        "  model.fit(X_train,y_train)\n",
        "  \n",
        "  results[model_name] = model.score(X_val, y_val)"
      ],
      "execution_count": null,
      "outputs": [
        {
          "output_type": "stream",
          "text": [
            "/usr/local/lib/python3.6/dist-packages/sklearn/utils/validation.py:72: DataConversionWarning: A column-vector y was passed when a 1d array was expected. Please change the shape of y to (n_samples, ), for example using ravel().\n",
            "  return f(**kwargs)\n",
            "/usr/local/lib/python3.6/dist-packages/ipykernel_launcher.py:5: DataConversionWarning: A column-vector y was passed when a 1d array was expected. Please change the shape of y to (n_samples,), for example using ravel().\n",
            "  \"\"\"\n"
          ],
          "name": "stderr"
        }
      ]
    },
    {
      "cell_type": "markdown",
      "metadata": {
        "id": "2EmJbkKCeNw1"
      },
      "source": [
        "## Evaluation"
      ]
    },
    {
      "cell_type": "code",
      "metadata": {
        "id": "r8Av-_c3dp2d",
        "colab": {
          "base_uri": "https://localhost:8080/"
        },
        "outputId": "fcf8db42-cc1e-44e2-b716-893654650187"
      },
      "source": [
        "#NOTE: model.score uses R^2 when training a regression-model - best possible\n",
        "#R^2 score is 1\n",
        "results"
      ],
      "execution_count": null,
      "outputs": [
        {
          "output_type": "execute_result",
          "data": {
            "text/plain": [
              "{'RFR': 0.9688283816566077, 'SVM': 0.9683877135004936}"
            ]
          },
          "metadata": {
            "tags": []
          },
          "execution_count": 34
        }
      ]
    },
    {
      "cell_type": "markdown",
      "metadata": {
        "id": "h_jJVFy7dyji"
      },
      "source": [
        "### Cross-validation"
      ]
    },
    {
      "cell_type": "code",
      "metadata": {
        "id": "yv6sy7qgeTWA"
      },
      "source": [
        "from sklearn.model_selection import cross_val_score"
      ],
      "execution_count": null,
      "outputs": []
    },
    {
      "cell_type": "code",
      "metadata": {
        "id": "KdvrNTs-ed6T",
        "colab": {
          "base_uri": "https://localhost:8080/"
        },
        "outputId": "ff890d33-2b21-45b8-dc0b-f2ef9bd1137c"
      },
      "source": [
        "#Crossfold validation to make sure the models didn't get \"lucky/unlucky\" during\n",
        "#datasplit\n",
        "#Train and evaluates both models on 5 different part of the dataset\n",
        "#Print their score\n",
        "\n",
        "cvs_results = {}\n",
        "\n",
        "for model_name, model in models.items():\n",
        "  cvs_results[model_name] = cross_val_score(model,X,y,cv=5)"
      ],
      "execution_count": null,
      "outputs": [
        {
          "output_type": "stream",
          "text": [
            "/usr/local/lib/python3.6/dist-packages/sklearn/utils/validation.py:72: DataConversionWarning: A column-vector y was passed when a 1d array was expected. Please change the shape of y to (n_samples, ), for example using ravel().\n",
            "  return f(**kwargs)\n",
            "/usr/local/lib/python3.6/dist-packages/sklearn/utils/validation.py:72: DataConversionWarning: A column-vector y was passed when a 1d array was expected. Please change the shape of y to (n_samples, ), for example using ravel().\n",
            "  return f(**kwargs)\n",
            "/usr/local/lib/python3.6/dist-packages/sklearn/utils/validation.py:72: DataConversionWarning: A column-vector y was passed when a 1d array was expected. Please change the shape of y to (n_samples, ), for example using ravel().\n",
            "  return f(**kwargs)\n",
            "/usr/local/lib/python3.6/dist-packages/sklearn/utils/validation.py:72: DataConversionWarning: A column-vector y was passed when a 1d array was expected. Please change the shape of y to (n_samples, ), for example using ravel().\n",
            "  return f(**kwargs)\n",
            "/usr/local/lib/python3.6/dist-packages/sklearn/utils/validation.py:72: DataConversionWarning: A column-vector y was passed when a 1d array was expected. Please change the shape of y to (n_samples, ), for example using ravel().\n",
            "  return f(**kwargs)\n",
            "/usr/local/lib/python3.6/dist-packages/sklearn/model_selection/_validation.py:531: DataConversionWarning: A column-vector y was passed when a 1d array was expected. Please change the shape of y to (n_samples,), for example using ravel().\n",
            "  estimator.fit(X_train, y_train, **fit_params)\n",
            "/usr/local/lib/python3.6/dist-packages/sklearn/model_selection/_validation.py:531: DataConversionWarning: A column-vector y was passed when a 1d array was expected. Please change the shape of y to (n_samples,), for example using ravel().\n",
            "  estimator.fit(X_train, y_train, **fit_params)\n",
            "/usr/local/lib/python3.6/dist-packages/sklearn/model_selection/_validation.py:531: DataConversionWarning: A column-vector y was passed when a 1d array was expected. Please change the shape of y to (n_samples,), for example using ravel().\n",
            "  estimator.fit(X_train, y_train, **fit_params)\n",
            "/usr/local/lib/python3.6/dist-packages/sklearn/model_selection/_validation.py:531: DataConversionWarning: A column-vector y was passed when a 1d array was expected. Please change the shape of y to (n_samples,), for example using ravel().\n",
            "  estimator.fit(X_train, y_train, **fit_params)\n",
            "/usr/local/lib/python3.6/dist-packages/sklearn/model_selection/_validation.py:531: DataConversionWarning: A column-vector y was passed when a 1d array was expected. Please change the shape of y to (n_samples,), for example using ravel().\n",
            "  estimator.fit(X_train, y_train, **fit_params)\n"
          ],
          "name": "stderr"
        }
      ]
    },
    {
      "cell_type": "code",
      "metadata": {
        "colab": {
          "base_uri": "https://localhost:8080/"
        },
        "id": "ejRwNeqCH_r2",
        "outputId": "db4f6645-6aaa-4c4d-eb81-fa2d5c7a5aba"
      },
      "source": [
        "cvs_results"
      ],
      "execution_count": null,
      "outputs": [
        {
          "output_type": "execute_result",
          "data": {
            "text/plain": [
              "{'RFR': array([0.96710822, 0.96675289, 0.96916915, 0.96682217, 0.96849405]),\n",
              " 'SVM': array([0.96707258, 0.96715654, 0.96719214, 0.96637651, 0.96654506])}"
            ]
          },
          "metadata": {
            "tags": []
          },
          "execution_count": 37
        }
      ]
    },
    {
      "cell_type": "markdown",
      "metadata": {
        "id": "YpJzLa3AjZlP"
      },
      "source": [
        "### Mean absolute error"
      ]
    },
    {
      "cell_type": "code",
      "metadata": {
        "id": "HHsmmSVQjoDZ"
      },
      "source": [
        "from sklearn.metrics import mean_absolute_error"
      ],
      "execution_count": null,
      "outputs": []
    },
    {
      "cell_type": "code",
      "metadata": {
        "id": "DgezLH8SjrNA",
        "colab": {
          "base_uri": "https://localhost:8080/"
        },
        "outputId": "86139a2d-224f-4944-a1db-82a0b24ac3fd"
      },
      "source": [
        "#Mean absolute error takes the mean of the absolute values of y_true - y_prediction´\n",
        "\n",
        "for model_name, model in models.items():\n",
        "  print(mean_absolute_error(y_val, model.predict(X_val)))"
      ],
      "execution_count": null,
      "outputs": [
        {
          "output_type": "stream",
          "text": [
            "0.08470001821073865\n",
            "0.08182077834652488\n"
          ],
          "name": "stdout"
        }
      ]
    },
    {
      "cell_type": "markdown",
      "metadata": {
        "id": "nRzD1LBBenck"
      },
      "source": [
        "## Conclusion\n",
        "\n",
        "Overall, the Random Forest Regressor did best, but since I already have quite a bit experience with that algorithm, I'll go with Support Vector Regressor instead. It is already performing quite well, but I will still try a bit of hyperparametertuning, and see if I can squish a bit more out of it.\n",
        "\n",
        "NOTE: While the R^2 and MAE tests show good results, it should be noted that those results does not equal a good and precise model.\n",
        "Think of it this way: If we have a dataset where 95% of the target column is of class 1, and the last 5 % are of class 2, the model might just only learn the patterns which correlates to class 1. This means, during testing, the model will be wrong 5% of the time. If you only look at the numbers, this sounds great, but the reality is, that the model simply hasn't learn the patterns which leads to class 2, so in a production environment, it will be unable to give accurate predictions.\n",
        "\n",
        "This might be the case of this model since the target-column is unbalanced and the number of features are low. I will be during a test-phase after the hyperparametertuning."
      ]
    },
    {
      "cell_type": "code",
      "metadata": {
        "id": "WJzD3la8ilYL"
      },
      "source": [
        "#Save Support Vector Regressor\n",
        "import pickle"
      ],
      "execution_count": null,
      "outputs": []
    },
    {
      "cell_type": "code",
      "metadata": {
        "id": "luXy72tvhMba"
      },
      "source": [
        "pickle.dump(models[\"SVM\"], \n",
        "            open(\"filename\",\n",
        "           \"wb\")) #write binary"
      ],
      "execution_count": null,
      "outputs": []
    },
    {
      "cell_type": "code",
      "metadata": {
        "id": "ab4gsMaAieZx"
      },
      "source": [
        "model = pickle.load(open(\"filename\",\n",
        "                         \"rb\")) #read binary"
      ],
      "execution_count": null,
      "outputs": []
    },
    {
      "cell_type": "markdown",
      "metadata": {
        "id": "eZE_Y1O0jWX0"
      },
      "source": [
        "## Hyperparameter tuning\n",
        "\n",
        "I'll first do a RandomizedSearchCV with selected hyperparameters. If relevant, I'll do a GridSearchCV with selected hyperparameters based on the results from the RandomizedSearchCV.\n"
      ]
    },
    {
      "cell_type": "markdown",
      "metadata": {
        "id": "ceu8bgBZatiQ"
      },
      "source": [
        "### RandomziedSearchCV"
      ]
    },
    {
      "cell_type": "code",
      "metadata": {
        "id": "4JGdlfLZlZXC"
      },
      "source": [
        "from sklearn.model_selection import RandomizedSearchCV, GridSearchCV"
      ],
      "execution_count": null,
      "outputs": []
    },
    {
      "cell_type": "code",
      "metadata": {
        "id": "9o_9u5fwWjOA",
        "colab": {
          "base_uri": "https://localhost:8080/"
        },
        "outputId": "6084db09-9a2c-47dd-958c-da60fbcca1d9"
      },
      "source": [
        "#Get hyperparameters from the model\n",
        "model.get_params"
      ],
      "execution_count": null,
      "outputs": [
        {
          "output_type": "execute_result",
          "data": {
            "text/plain": [
              "<bound method BaseEstimator.get_params of SVR()>"
            ]
          },
          "metadata": {
            "tags": []
          },
          "execution_count": 44
        }
      ]
    },
    {
      "cell_type": "code",
      "metadata": {
        "id": "IyIvekwFVZwA"
      },
      "source": [
        "#Create grid with selected hyperparametersettings to try.\n",
        "grid = {\"kernel\" : [\"linear\",\"poly\",\"rbf\",\"sigmoid\"],\n",
        "        \"gamma\" : [\"scale\",\"auto\"],\n",
        "        \"C\" : [0.1,0.5,1], \n",
        "        \"shrinking\" : [False,True]}"
      ],
      "execution_count": null,
      "outputs": []
    },
    {
      "cell_type": "code",
      "metadata": {
        "id": "cEB8j4UcX6bE"
      },
      "source": [
        "SVR_RSCV = RandomizedSearchCV(svm.SVR(),\n",
        "                              param_distributions=grid,\n",
        "                              n_iter=10, #number of iterations\n",
        "                              cv=5) #number of crossvalidatons\n",
        "\n",
        "#RandomizedSearchCV will train 10*5 models, with random hyperparameters combinations\n",
        "#from the grid above\n",
        "#After training we'll be able to see which hyperparametersettings yielded best\n",
        "#results.\n",
        "\n",
        "#Train model\n",
        "#SVR_RSCV.fit(X_train, y_train)"
      ],
      "execution_count": null,
      "outputs": []
    },
    {
      "cell_type": "code",
      "metadata": {
        "id": "8ldZ1VqZa7GX"
      },
      "source": [
        "#pickle.dump(SVR_RSCV, \n",
        "#            open(\"filename\",\n",
        "#           \"wb\"))"
      ],
      "execution_count": null,
      "outputs": []
    },
    {
      "cell_type": "code",
      "metadata": {
        "id": "0nVMYCsjbJyP",
        "colab": {
          "base_uri": "https://localhost:8080/"
        },
        "outputId": "b847b569-9893-4fb9-e6c0-ab716a4c8339"
      },
      "source": [
        "SVR_RSCV = pickle.load(open(\"filename\",\n",
        "                         \"rb\"))"
      ],
      "execution_count": null,
      "outputs": [
        {
          "output_type": "stream",
          "text": [
            "/usr/local/lib/python3.6/dist-packages/sklearn/base.py:334: UserWarning: Trying to unpickle estimator SVR from version 0.22.2.post1 when using version 0.23.2. This might lead to breaking code or invalid results. Use at your own risk.\n",
            "  UserWarning)\n",
            "/usr/local/lib/python3.6/dist-packages/sklearn/base.py:334: UserWarning: Trying to unpickle estimator RandomizedSearchCV from version 0.22.2.post1 when using version 0.23.2. This might lead to breaking code or invalid results. Use at your own risk.\n",
            "  UserWarning)\n"
          ],
          "name": "stderr"
        }
      ]
    },
    {
      "cell_type": "code",
      "metadata": {
        "colab": {
          "base_uri": "https://localhost:8080/"
        },
        "id": "fR92lPOtYi8t",
        "outputId": "8ea1185f-7ab5-4ebb-966e-1832b780fb8c"
      },
      "source": [
        "#Compare hyperparameters from basline SVR and RandomizedSearch SVR\n",
        "\n",
        "#Baseline_models hyperparameters\n",
        "model.get_params"
      ],
      "execution_count": null,
      "outputs": [
        {
          "output_type": "execute_result",
          "data": {
            "text/plain": [
              "<bound method BaseEstimator.get_params of SVR()>"
            ]
          },
          "metadata": {
            "tags": []
          },
          "execution_count": 49
        }
      ]
    },
    {
      "cell_type": "code",
      "metadata": {
        "colab": {
          "base_uri": "https://localhost:8080/"
        },
        "id": "K_fkCPtPZbJS",
        "outputId": "29eb117f-8df1-4b3c-a2e2-f7d54300b8f5"
      },
      "source": [
        "#RandomizedSearchCV's hyperparametesr\n",
        "\n",
        "SVR_RSCV.best_params_"
      ],
      "execution_count": null,
      "outputs": [
        {
          "output_type": "execute_result",
          "data": {
            "text/plain": [
              "{'C': 0.5, 'gamma': 'scale', 'kernel': 'rbf', 'shrinking': False}"
            ]
          },
          "metadata": {
            "tags": []
          },
          "execution_count": 50
        }
      ]
    },
    {
      "cell_type": "code",
      "metadata": {
        "colab": {
          "base_uri": "https://localhost:8080/"
        },
        "id": "RkMaKM48aAkj",
        "outputId": "7aba04af-3d97-44b9-9650-f63f30af1013"
      },
      "source": [
        "#Compare MAE\n",
        "mean_absolute_error(y_val, model.predict(X_val))"
      ],
      "execution_count": null,
      "outputs": [
        {
          "output_type": "execute_result",
          "data": {
            "text/plain": [
              "0.08470001821073865"
            ]
          },
          "metadata": {
            "tags": []
          },
          "execution_count": 53
        }
      ]
    },
    {
      "cell_type": "code",
      "metadata": {
        "id": "gqAIRqW_aO5L"
      },
      "source": [
        "#mean_absolute_error(y_val, SVR_RSCV.predict(X_val))\n",
        "\n",
        "#NOTE: This has been commented out since I had to change the version of python\n",
        "#I used almost at the end of this ML project. Because of that, I couldn't call\n",
        "#The MAE on the SVR_RSCV - the result was a bit below the MAE of the baseline_model."
      ],
      "execution_count": null,
      "outputs": []
    },
    {
      "cell_type": "markdown",
      "metadata": {
        "id": "_aMUagqaaVUU"
      },
      "source": [
        "#### RandomizedSearchCV conclusion\n",
        "\n",
        "The model did not improve its score or MAE.\n",
        "\n",
        "At this point I could do a GridSearchCV with hyperparameters which lie between the default model and the RandomizedSearchCV, but I don't believe the results will be improved."
      ]
    },
    {
      "cell_type": "markdown",
      "metadata": {
        "id": "cO8_0Zl9fUXD"
      },
      "source": [
        "## Test\n",
        "\n",
        "Compare prediction on validation_set to the true value"
      ]
    },
    {
      "cell_type": "code",
      "metadata": {
        "id": "k8r_7MSbg0mX"
      },
      "source": [
        "#Load model\n",
        "model = pickle.load(open(\"filename\",\n",
        "                         \"rb\"))"
      ],
      "execution_count": null,
      "outputs": []
    },
    {
      "cell_type": "code",
      "metadata": {
        "id": "OcoNMVJKBaml"
      },
      "source": [
        "rbX = joblib.load(\"filename\")\n",
        "rbY = joblib.load(\"filename\")"
      ],
      "execution_count": null,
      "outputs": []
    },
    {
      "cell_type": "code",
      "metadata": {
        "colab": {
          "base_uri": "https://localhost:8080/"
        },
        "id": "oPurD08DxiVm",
        "outputId": "677a5d40-34b7-4dca-ca96-f1e7a13573dc"
      },
      "source": [
        "X_val[:1]"
      ],
      "execution_count": null,
      "outputs": [
        {
          "output_type": "execute_result",
          "data": {
            "text/plain": [
              "array([[ 0.5, -1. ,  0.5, -0.5, -0.5, -1. ]])"
            ]
          },
          "metadata": {
            "tags": []
          },
          "execution_count": 57
        }
      ]
    },
    {
      "cell_type": "code",
      "metadata": {
        "id": "AqXwlqV26boR"
      },
      "source": [
        "#Predict with validation set\n",
        "svr_pred = model.predict(X_val)\n",
        "\n",
        "#Reverse the rescaling\n",
        "svr_pred = rbY.inverse_transform(svr_pred.reshape(-1,1))\n",
        "\n",
        "#NOTE: Since the data the model was trained on was scaled, the data used in a\n",
        "#production environment would also have to be rescaled. The prediction would\n",
        "#the look like this:\n",
        "#svr_pred = model.predict(rbX.transform(X_val))"
      ],
      "execution_count": null,
      "outputs": []
    },
    {
      "cell_type": "code",
      "metadata": {
        "id": "MngtKMtj8Lp8"
      },
      "source": [
        "#Reverse the rescaled prediction values\n",
        "y_val = rbY.inverse_transform(y_val)"
      ],
      "execution_count": null,
      "outputs": []
    },
    {
      "cell_type": "code",
      "metadata": {
        "colab": {
          "base_uri": "https://localhost:8080/"
        },
        "id": "xhP2lcgj6pzf",
        "outputId": "0c099276-cddf-4d90-8ae6-88e443364169"
      },
      "source": [
        "#Model's predictions\n",
        "svr_pred[:5]"
      ],
      "execution_count": null,
      "outputs": [
        {
          "output_type": "execute_result",
          "data": {
            "text/plain": [
              "array([[ 1.83854302],\n",
              "       [27.15987908],\n",
              "       [20.25373417],\n",
              "       [13.41367663],\n",
              "       [26.58721074]])"
            ]
          },
          "metadata": {
            "tags": []
          },
          "execution_count": 60
        }
      ]
    },
    {
      "cell_type": "code",
      "metadata": {
        "colab": {
          "base_uri": "https://localhost:8080/"
        },
        "id": "03rwuvsw623r",
        "outputId": "529c5b63-e532-4a30-fb6b-8edb859fcd1f"
      },
      "source": [
        "#Actual values\n",
        "y_val[:5]"
      ],
      "execution_count": null,
      "outputs": [
        {
          "output_type": "execute_result",
          "data": {
            "text/plain": [
              "array([[ 3.],\n",
              "       [26.],\n",
              "       [24.],\n",
              "       [13.],\n",
              "       [29.]])"
            ]
          },
          "metadata": {
            "tags": []
          },
          "execution_count": 61
        }
      ]
    },
    {
      "cell_type": "code",
      "metadata": {
        "colab": {
          "base_uri": "https://localhost:8080/"
        },
        "id": "CaZRs4iC67RC",
        "outputId": "154c5ea5-0f34-484f-fbfa-481acb0eae2b"
      },
      "source": [
        "#Prediction values of last five samples\n",
        "svr_pred[-5:]"
      ],
      "execution_count": null,
      "outputs": [
        {
          "output_type": "execute_result",
          "data": {
            "text/plain": [
              "array([[ 6.37479433],\n",
              "       [27.40268587],\n",
              "       [24.72995784],\n",
              "       [13.14971973],\n",
              "       [25.39191653]])"
            ]
          },
          "metadata": {
            "tags": []
          },
          "execution_count": 62
        }
      ]
    },
    {
      "cell_type": "code",
      "metadata": {
        "colab": {
          "base_uri": "https://localhost:8080/"
        },
        "id": "09Q1QsXj7HxI",
        "outputId": "9b1c113a-ec26-4e12-8689-712b04f3cf12"
      },
      "source": [
        "#Actual values of last five samples\n",
        "y_val[-5:]"
      ],
      "execution_count": null,
      "outputs": [
        {
          "output_type": "execute_result",
          "data": {
            "text/plain": [
              "array([[ 8.],\n",
              "       [27.],\n",
              "       [27.],\n",
              "       [10.],\n",
              "       [25.]])"
            ]
          },
          "metadata": {
            "tags": []
          },
          "execution_count": 63
        }
      ]
    },
    {
      "cell_type": "markdown",
      "metadata": {
        "id": "5hrazBR-t6gd"
      },
      "source": [
        "# Conclusion\n",
        "\n",
        "The models has shown great results and is ready to be integrated.\n",
        "\n",
        "My fear of the model only learning the patterns related to the most frequent target-value proved to be wrong this time.\n",
        "\n",
        "If I had to keep going with this project, I would definetly try to gather more data along with a proper target-column. If this were to happen, I would also go back and retrain other models along with trying other normalization tools."
      ]
    },
    {
      "cell_type": "markdown",
      "metadata": {
        "id": "v8XRW3vdLEZ2"
      },
      "source": [
        "# How it would look in production\n",
        "\n",
        "NOTE: This python-script will in our semester-project recieve data from a C#-program. The outcommented bit below the tool-import represents the recieved data - I have commented it out and created some dummy-data below, which will be used now."
      ]
    },
    {
      "cell_type": "code",
      "metadata": {
        "colab": {
          "base_uri": "https://localhost:8080/",
          "height": 97
        },
        "id": "sE80gf2uwWZD",
        "outputId": "61efc43b-27f0-4095-f7eb-f5aa391376cb"
      },
      "source": [
        "import sys\n",
        "import numpy as np\n",
        "import pandas as pd\n",
        "import sklearn\n",
        "import pickle\n",
        "import os\n",
        "from sklearn.preprocessing import RobustScaler\n",
        "import joblib\n",
        "\n",
        "#Sex = string(sys.argv[1])\n",
        "#ResidentsInTheTenancy = string(sys.argv[2])\n",
        "#NumberOfRoomsInTheTenancy = string(sys.argv[3])\n",
        "#TypeOfTenancy = string(sys.argv[4])\n",
        "#LocationOfTenancy = string(sys.argv[5])\n",
        "#ResidentAgeGroup = stirng(sys.argv[6])\n",
        "\n",
        "#Dummy-data. Could be the data recieved from above\n",
        "Sex = \"Male\"\n",
        "ResidentsInTheTenancy = 1\n",
        "NumberOfRoomsInTheTenancy = 1\n",
        "TypeOfTenancy = \"Terraced_Chain_And_SemiDetachedHouses\"\n",
        "LocationOfTenancy = \"The_Capital_Region_of_Denmark\t\"\n",
        "ResidentAgeGroup = \"18-24\"\n",
        "\n",
        "#plot recieved data into dataframe\n",
        "data = pd.DataFrame({\"Sex\" : [Sex],\n",
        "                     \"ResidentsInTheTenancy\" : [ResidentsInTheTenancy],\n",
        "                     \"NumberOfRoomsInTheTenancy\" : [NumberOfRoomsInTheTenancy],\n",
        "                     \"TypeOfTenancy\" : [TypeOfTenancy],\n",
        "                     \"LocationOfTenancy\" : [LocationOfTenancy],\n",
        "                     \"ResidentAgeGroup\" : [ResidentAgeGroup]})\n",
        "\n",
        "data"
      ],
      "execution_count": null,
      "outputs": [
        {
          "output_type": "execute_result",
          "data": {
            "text/html": [
              "<div>\n",
              "<style scoped>\n",
              "    .dataframe tbody tr th:only-of-type {\n",
              "        vertical-align: middle;\n",
              "    }\n",
              "\n",
              "    .dataframe tbody tr th {\n",
              "        vertical-align: top;\n",
              "    }\n",
              "\n",
              "    .dataframe thead th {\n",
              "        text-align: right;\n",
              "    }\n",
              "</style>\n",
              "<table border=\"1\" class=\"dataframe\">\n",
              "  <thead>\n",
              "    <tr style=\"text-align: right;\">\n",
              "      <th></th>\n",
              "      <th>Sex</th>\n",
              "      <th>ResidentsInTheTenancy</th>\n",
              "      <th>NumberOfRoomsInTheTenancy</th>\n",
              "      <th>TypeOfTenancy</th>\n",
              "      <th>LocationOfTenancy</th>\n",
              "      <th>ResidentAgeGroup</th>\n",
              "    </tr>\n",
              "  </thead>\n",
              "  <tbody>\n",
              "    <tr>\n",
              "      <th>0</th>\n",
              "      <td>Male</td>\n",
              "      <td>1</td>\n",
              "      <td>1</td>\n",
              "      <td>Terraced_Chain_And_SemiDetachedHouses</td>\n",
              "      <td>The_Capital_Region_of_Denmark\\t</td>\n",
              "      <td>18-24</td>\n",
              "    </tr>\n",
              "  </tbody>\n",
              "</table>\n",
              "</div>"
            ],
            "text/plain": [
              "    Sex  ...  ResidentAgeGroup\n",
              "0  Male  ...             18-24\n",
              "\n",
              "[1 rows x 6 columns]"
            ]
          },
          "metadata": {
            "tags": []
          },
          "execution_count": 64
        }
      ]
    },
    {
      "cell_type": "code",
      "metadata": {
        "id": "NryrhBX8JfmZ"
      },
      "source": [
        "#Import category-mapping files\n",
        "\n",
        "file_name = \"filename\"\n",
        "open_file = open(file_name+\"sex_mapping.pkl\", \"rb\")\n",
        "sex_mapping = pickle.load(open_file)\n",
        "\n",
        "open_file = open(file_name + \"type_of_tenancy_mapping.pkl\",\"rb\")\n",
        "type_of_tenancy_mapping = pickle.load(open_file)\n",
        "\n",
        "open_file = open(file_name + \"location_of_tenancy_mapping.pkl\",\"rb\")\n",
        "location_of_tenancy_mapping = pickle.load(open_file)\n",
        "\n",
        "open_file = open(file_name + \"resident_age_group_mapping.pkl\",\"rb\")\n",
        "resident_age_group_mapping = pickle.load(open_file)\n",
        "open_file.close()"
      ],
      "execution_count": null,
      "outputs": []
    },
    {
      "cell_type": "code",
      "metadata": {
        "id": "yPJT3tF8DoQ2"
      },
      "source": [
        "#Map values in the recieved data according to the category-files\n",
        "\n",
        "for key, value in sex_mapping.items():\n",
        "  if str(key) in str(data['Sex']):\n",
        "    data['Sex'] = value\n",
        "\n",
        "for key, value in type_of_tenancy_mapping.items():\n",
        "  if str(key) in str(data['TypeOfTenancy']):\n",
        "    data['TypeOfTenancy'] = value\n",
        "\n",
        "for key, value in location_of_tenancy_mapping.items():\n",
        "  if str(key) in str(data['LocationOfTenancy']):\n",
        "    data['LocationOfTenancy'] = value\n",
        "\n",
        "for key, value in resident_age_group_mapping.items():\n",
        "  if str(key) in str(data['ResidentAgeGroup']):\n",
        "    data['ResidentAgeGroup'] = value"
      ],
      "execution_count": null,
      "outputs": []
    },
    {
      "cell_type": "code",
      "metadata": {
        "colab": {
          "base_uri": "https://localhost:8080/",
          "height": 77
        },
        "id": "lb8IcdVEMgjv",
        "outputId": "f3829b7b-a1a4-4847-f1d5-81d3bf7e3af3"
      },
      "source": [
        "data"
      ],
      "execution_count": null,
      "outputs": [
        {
          "output_type": "execute_result",
          "data": {
            "text/html": [
              "<div>\n",
              "<style scoped>\n",
              "    .dataframe tbody tr th:only-of-type {\n",
              "        vertical-align: middle;\n",
              "    }\n",
              "\n",
              "    .dataframe tbody tr th {\n",
              "        vertical-align: top;\n",
              "    }\n",
              "\n",
              "    .dataframe thead th {\n",
              "        text-align: right;\n",
              "    }\n",
              "</style>\n",
              "<table border=\"1\" class=\"dataframe\">\n",
              "  <thead>\n",
              "    <tr style=\"text-align: right;\">\n",
              "      <th></th>\n",
              "      <th>Sex</th>\n",
              "      <th>ResidentsInTheTenancy</th>\n",
              "      <th>NumberOfRoomsInTheTenancy</th>\n",
              "      <th>TypeOfTenancy</th>\n",
              "      <th>LocationOfTenancy</th>\n",
              "      <th>ResidentAgeGroup</th>\n",
              "    </tr>\n",
              "  </thead>\n",
              "  <tbody>\n",
              "    <tr>\n",
              "      <th>0</th>\n",
              "      <td>1</td>\n",
              "      <td>1</td>\n",
              "      <td>1</td>\n",
              "      <td>1</td>\n",
              "      <td>2</td>\n",
              "      <td>0</td>\n",
              "    </tr>\n",
              "  </tbody>\n",
              "</table>\n",
              "</div>"
            ],
            "text/plain": [
              "   Sex  ResidentsInTheTenancy  ...  LocationOfTenancy  ResidentAgeGroup\n",
              "0    1                      1  ...                  2                 0\n",
              "\n",
              "[1 rows x 6 columns]"
            ]
          },
          "metadata": {
            "tags": []
          },
          "execution_count": 67
        }
      ]
    },
    {
      "cell_type": "code",
      "metadata": {
        "id": "TPCCetNDx-0t",
        "colab": {
          "base_uri": "https://localhost:8080/"
        },
        "outputId": "03dc94e1-1b81-4174-cc3b-ea58c3cb1249"
      },
      "source": [
        "#Import trained model\n",
        "model = pickle.load(open(\"filename\",\n",
        "                         \"rb\"))\n",
        "\n",
        "#Import rescalers the model was trained on\n",
        "rbX = joblib.load(\"filename\")\n",
        "rbY = joblib.load(\"filename\")\n",
        "\n",
        "#Rescale input and predict\n",
        "data = rbX.transform(data)\n",
        "data"
      ],
      "execution_count": null,
      "outputs": [
        {
          "output_type": "execute_result",
          "data": {
            "text/plain": [
              "array([[ 0.5, -1. , -1. ,  0.5,  0. , -1. ]])"
            ]
          },
          "metadata": {
            "tags": []
          },
          "execution_count": 68
        }
      ]
    },
    {
      "cell_type": "code",
      "metadata": {
        "id": "7ELXESJiPq4o",
        "colab": {
          "base_uri": "https://localhost:8080/"
        },
        "outputId": "ca91a28c-3df4-47c7-eecc-95463f108ea0"
      },
      "source": [
        "prediction = model.predict(data)\n",
        "\n",
        "#Rescale output back to original form\n",
        "prediction = rbY.inverse_transform(prediction.reshape(-1,1))\n",
        "prediction"
      ],
      "execution_count": null,
      "outputs": [
        {
          "output_type": "execute_result",
          "data": {
            "text/plain": [
              "array([[2.05090489]])"
            ]
          },
          "metadata": {
            "tags": []
          },
          "execution_count": 70
        }
      ]
    }
  ]
}